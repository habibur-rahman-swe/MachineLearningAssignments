{
  "nbformat": 4,
  "nbformat_minor": 0,
  "metadata": {
    "colab": {
      "provenance": [],
      "authorship_tag": "ABX9TyNMhznmx7srVcfU0z4Xvvj3",
      "include_colab_link": true
    },
    "kernelspec": {
      "name": "python3",
      "display_name": "Python 3"
    },
    "language_info": {
      "name": "python"
    }
  },
  "cells": [
    {
      "cell_type": "markdown",
      "metadata": {
        "id": "view-in-github",
        "colab_type": "text"
      },
      "source": [
        "<a href=\"https://colab.research.google.com/github/habibur-rahman-swe/MachineLearningAssignments/blob/main/SupportVectorMachine.ipynb\" target=\"_parent\"><img src=\"https://colab.research.google.com/assets/colab-badge.svg\" alt=\"Open In Colab\"/></a>"
      ]
    },
    {
      "cell_type": "code",
      "execution_count": 93,
      "metadata": {
        "id": "sVyJm1jPI1n9"
      },
      "outputs": [],
      "source": [
        "import pandas as pd\n",
        "import pylab as pl\n",
        "import numpy as np\n",
        "import scipy.optimize as opt\n",
        "from sklearn import preprocessing\n",
        "from sklearn.model_selection import train_test_split\n",
        "%matplotlib inline\n",
        "import matplotlib.pyplot as plt\n",
        "\n",
        "from sklearn.metrics import classification_report\n",
        "from sklearn import svm\n",
        "from sklearn.metrics import f1_score"
      ]
    },
    {
      "cell_type": "code",
      "source": [
        "def wragle(path):\n",
        "  df = pd.read_csv(path)\n",
        "\n",
        "  # drop index, Patient Id\n",
        "  df.drop(columns=['index', 'Patient Id'], inplace=True)\n",
        "\n",
        "  # changing the level low = 0, medium = 1, high = 1\n",
        "  df['Level'] = df['Level'].map({'Low': 0, 'Medium': 1, 'High': 1})\n",
        "\n",
        "  return df"
      ],
      "metadata": {
        "id": "REqVXocUWJx8"
      },
      "execution_count": null,
      "outputs": []
    },
    {
      "cell_type": "code",
      "source": [
        "df =  wragle(\"/content/sample_data/cancer patient data sets.csv\")\n",
        "df.head()"
      ],
      "metadata": {
        "id": "ii9iQNN1VkpP"
      },
      "execution_count": null,
      "outputs": []
    },
    {
      "cell_type": "code",
      "source": [
        "X = df.drop(columns=['Level'])\n",
        "y = df['Level']"
      ],
      "metadata": {
        "id": "7HMal673c-g1"
      },
      "execution_count": null,
      "outputs": []
    },
    {
      "cell_type": "code",
      "source": [
        "X_train, X_test, y_train, y_test = train_test_split(X, y, test_size=0.2, random_state=4, stratify=y)\n",
        "print('Train set: ', X_train.shape, y_train.shape)\n",
        "print('Test set: ', X_test.shape, y_test.shape)"
      ],
      "metadata": {
        "id": "QzJH5Es7dSv0"
      },
      "execution_count": null,
      "outputs": []
    },
    {
      "cell_type": "code",
      "source": [
        "kernels = {\n",
        "    'rbf': 'Radial Basis Function',\n",
        "    'linear': 'Linear Function',\n",
        "    'poly': 'Polynomial Function',\n",
        "    'sigmoid': 'Sigmoid Function'\n",
        "}\n",
        "\n",
        "def for_kernel_gc(kernel):\n",
        "  max_f1 = 0\n",
        "  max_g = 0\n",
        "  max_c = 0\n",
        "\n",
        "  for g in range(1, 11):\n",
        "    for c in range(1, 11):\n",
        "      f1 = tune_model(kernel, g, c)\n",
        "      if f1 > max_f1:\n",
        "        max_f1 = f1\n",
        "        max_g = g\n",
        "        max_c = c\n",
        "      if max_f1 == 1:\n",
        "        break\n",
        "    if max_f1 == 1:\n",
        "      break\n",
        "  return [max_g, max_c]\n",
        "\n",
        "def tune_model(kernel, gamma,  c):\n",
        "  clf = svm.SVC(kernel=kernel, gamma=gamma, C=c)\n",
        "  clf.fit(X_train, y_train)\n",
        "  yhat = clf.predict(X_test)\n",
        "  # print(kernels[kernel], \", Gamma:\",  gamma, \", C:\", c , \", Avg F1-score: %.4f\" % f1_score(y_test, yhat, average='weighted'))\n",
        "  return f1_score(y_test, yhat, average='weighted')"
      ],
      "metadata": {
        "id": "MhUVvwoPnqmG"
      },
      "execution_count": 111,
      "outputs": []
    },
    {
      "cell_type": "markdown",
      "source": [
        "# Modeling svm\n",
        "Radial basis function\n",
        "\n",
        "1.   Radial basis function\n",
        "\n"
      ],
      "metadata": {
        "id": "Cg_7NBCzfGRv"
      }
    },
    {
      "cell_type": "code",
      "source": [
        "kernel = 'rbf'\n",
        "g, c = for_kernel_gc(kernel)\n",
        "\n",
        "clf = svm.SVC(kernel=kernel, gamma=g, C=c)\n",
        "clf.fit(X_train, y_train)\n",
        "yhat = clf.predict(X_test)\n",
        "print(\"Avg F1-score: %.4f\" % f1_score(y_test, yhat, average='weighted'))"
      ],
      "metadata": {
        "colab": {
          "base_uri": "https://localhost:8080/"
        },
        "id": "6gwvaTogeCxj",
        "outputId": "fbc2f03b-32ca-41eb-ffcb-f07fd42cc7ca"
      },
      "execution_count": 112,
      "outputs": [
        {
          "output_type": "stream",
          "name": "stdout",
          "text": [
            "Avg F1-score: 0.9950\n"
          ]
        }
      ]
    },
    {
      "cell_type": "markdown",
      "source": [
        "2.   Linear function"
      ],
      "metadata": {
        "id": "uP80PVNxjE_u"
      }
    },
    {
      "cell_type": "code",
      "source": [
        "kernel = 'linear'\n",
        "g, c = for_kernel_gc(kernel)\n",
        "clf = svm.SVC(kernel=kernel, gamma=g, C=c)\n",
        "clf.fit(X_train, y_train)\n",
        "yhat = clf.predict(X_test)\n",
        "print(\"Avg F1-score: %.4f\" % f1_score(y_test, yhat, average='weighted'))"
      ],
      "metadata": {
        "id": "lAdZSjQnkkFi",
        "outputId": "f8f2e88e-7131-4dc8-8d58-802e9e5444db",
        "colab": {
          "base_uri": "https://localhost:8080/"
        }
      },
      "execution_count": 99,
      "outputs": [
        {
          "output_type": "stream",
          "name": "stdout",
          "text": [
            "Avg F1-score: 1.0000\n"
          ]
        }
      ]
    },
    {
      "cell_type": "markdown",
      "source": [
        "3. Polinomial"
      ],
      "metadata": {
        "id": "TiImhztMltLB"
      }
    },
    {
      "cell_type": "code",
      "source": [
        "kernel = 'linear'\n",
        "g, c = for_kernel_gc(kernel)\n",
        "\n",
        "clf = svm.SVC(kernel=kernel, gamma=g, C=c)\n",
        "clf.fit(X_train, y_train)\n",
        "yhat = clf.predict(X_test)\n",
        "print(\"Avg F1-score: %.4f\" % f1_score(y_test, yhat, average='weighted'))"
      ],
      "metadata": {
        "id": "SCTFEqU4lzUR",
        "outputId": "7ffd52a4-86b7-484b-f4fc-95cc3d86f6aa",
        "colab": {
          "base_uri": "https://localhost:8080/"
        }
      },
      "execution_count": 100,
      "outputs": [
        {
          "output_type": "stream",
          "name": "stdout",
          "text": [
            "Avg F1-score: 1.0000\n"
          ]
        }
      ]
    },
    {
      "cell_type": "markdown",
      "source": [
        "4. Sigmoid"
      ],
      "metadata": {
        "id": "V9VjVVqFlv9f"
      }
    },
    {
      "cell_type": "code",
      "source": [
        "kernel = 'sigmoid'\n",
        "g, c = for_kernel_gc(kernel)\n",
        "\n",
        "clf = svm.SVC(kernel=kernel, gamma=g, C=c)\n",
        "clf.fit(X_train, y_train)\n",
        "yhat = clf.predict(X_test)\n",
        "print(\"Avg F1-score: %.4f\" % f1_score(y_test, yhat, average='weighted'))"
      ],
      "metadata": {
        "id": "iaWMgwErlftO",
        "outputId": "847d6e1b-624d-4b42-e8eb-799d364f2f89",
        "colab": {
          "base_uri": "https://localhost:8080/"
        }
      },
      "execution_count": 110,
      "outputs": [
        {
          "output_type": "stream",
          "name": "stdout",
          "text": [
            "Avg F1-score: 0.5699\n"
          ]
        }
      ]
    },
    {
      "cell_type": "markdown",
      "source": [],
      "metadata": {
        "id": "2U1PJiS7lSWO"
      }
    },
    {
      "cell_type": "code",
      "source": [
        "# from sklearn.metrics import f1_score\n",
        "# f1_score(y_test, yhat, average='weighted')"
      ],
      "metadata": {
        "id": "_E0fajcBheKd"
      },
      "execution_count": 91,
      "outputs": []
    }
  ]
}